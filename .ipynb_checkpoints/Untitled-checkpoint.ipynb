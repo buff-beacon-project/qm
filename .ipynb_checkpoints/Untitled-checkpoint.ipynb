{
 "cells": [
  {
   "cell_type": "code",
   "execution_count": 2,
   "id": "09044e98",
   "metadata": {},
   "outputs": [
    {
     "name": "stdout",
     "output_type": "stream",
     "text": [
      "Hello World\n"
     ]
    },
    {
     "data": {
      "text/plain": [
       "()"
      ]
     },
     "execution_count": 2,
     "metadata": {},
     "output_type": "execute_result"
    }
   ],
   "source": [
    "println!(\"Hello World\")"
   ]
  },
  {
   "cell_type": "code",
   "execution_count": 5,
   "id": "b1943d70",
   "metadata": {},
   "outputs": [
    {
     "ename": "Error",
     "evalue": "failed to resolve: use of undeclared crate or module `plotters`",
     "output_type": "error",
     "traceback": [
      "use of undeclared crate or module `plotters`",
      "failed to resolve: use of undeclared crate or module `plotters`"
     ]
    },
    {
     "ename": "Error",
     "evalue": "failed to resolve: use of undeclared type `BitMapBackend`",
     "output_type": "error",
     "traceback": [
      "    let root = BitMapBackend::new(\"plotters-doc-data/0.png\", (640, 480)).into_drawing_area();",
      "\u001b[91m               ^^^^^^^^^^^^^\u001b[0m \u001b[94muse of undeclared type `BitMapBackend`\u001b[0m",
      "failed to resolve: use of undeclared type `BitMapBackend`"
     ]
    },
    {
     "ename": "Error",
     "evalue": "failed to resolve: use of undeclared type `ChartBuilder`",
     "output_type": "error",
     "traceback": [
      "    let mut chart = ChartBuilder::on(&root)",
      "\u001b[91m                    ^^^^^^^^^^^^\u001b[0m \u001b[94muse of undeclared type `ChartBuilder`\u001b[0m",
      "failed to resolve: use of undeclared type `ChartBuilder`"
     ]
    },
    {
     "ename": "Error",
     "evalue": "failed to resolve: use of undeclared type `LineSeries`",
     "output_type": "error",
     "traceback": [
      "        .draw_series(LineSeries::new(",
      "\u001b[91m                     ^^^^^^^^^^\u001b[0m \u001b[94muse of undeclared type `LineSeries`\u001b[0m",
      "failed to resolve: use of undeclared type `LineSeries`"
     ]
    },
    {
     "ename": "Error",
     "evalue": "failed to resolve: use of undeclared type `PathElement`",
     "output_type": "error",
     "traceback": [
      "        .legend(|(x, y)| PathElement::new(vec![(x, y), (x + 20, y)], &RED));",
      "\u001b[91m                         ^^^^^^^^^^^\u001b[0m \u001b[94muse of undeclared type `PathElement`\u001b[0m",
      "failed to resolve: use of undeclared type `PathElement`"
     ]
    },
    {
     "ename": "Error",
     "evalue": "cannot find value `WHITE` in this scope",
     "output_type": "error",
     "traceback": [
      "    root.fill(&WHITE)?;",
      "\u001b[91m               ^^^^^\u001b[0m \u001b[94mnot found in this scope\u001b[0m",
      "cannot find value `WHITE` in this scope"
     ]
    },
    {
     "ename": "Error",
     "evalue": "cannot find value `RED` in this scope",
     "output_type": "error",
     "traceback": [
      "            &RED,",
      "\u001b[91m             ^^^\u001b[0m \u001b[94mnot found in this scope\u001b[0m",
      "cannot find value `RED` in this scope"
     ]
    },
    {
     "ename": "Error",
     "evalue": "cannot find value `RED` in this scope",
     "output_type": "error",
     "traceback": [
      "        .legend(|(x, y)| PathElement::new(vec![(x, y), (x + 20, y)], &RED));",
      "\u001b[91m                                                                      ^^^\u001b[0m \u001b[94mnot found in this scope\u001b[0m",
      "cannot find value `RED` in this scope"
     ]
    },
    {
     "ename": "Error",
     "evalue": "cannot find value `WHITE` in this scope",
     "output_type": "error",
     "traceback": [
      "        .background_style(&WHITE.mix(0.8))",
      "\u001b[91m                           ^^^^^\u001b[0m \u001b[94mnot found in this scope\u001b[0m",
      "cannot find value `WHITE` in this scope"
     ]
    },
    {
     "ename": "Error",
     "evalue": "cannot find value `BLACK` in this scope",
     "output_type": "error",
     "traceback": [
      "        .border_style(&BLACK)",
      "\u001b[91m                       ^^^^^\u001b[0m \u001b[94mnot found in this scope\u001b[0m",
      "cannot find value `BLACK` in this scope"
     ]
    },
    {
     "ename": "Error",
     "evalue": "no method named `into_font` found for tuple `(&'static str, {integer})` in the current scope",
     "output_type": "error",
     "traceback": [
      "        .caption(\"y=x^2\", (\"sans-serif\", 50).into_font())",
      "\u001b[91m                                             ^^^^^^^^^\u001b[0m \u001b[94mmethod not found in `(&'static str, {integer})`\u001b[0m",
      "no method named `into_font` found for tuple `(&'static str, {integer})` in the current scope"
     ]
    }
   ],
   "source": [
    "extern crate plotters;\n",
    "use plotters::prelude::*;\n",
    "fn main() -> Result<(), Box<dyn std::error::Error>> {\n",
    "    let root = BitMapBackend::new(\"plotters-doc-data/0.png\", (640, 480)).into_drawing_area();\n",
    "    root.fill(&WHITE)?;\n",
    "    let mut chart = ChartBuilder::on(&root)\n",
    "        .caption(\"y=x^2\", (\"sans-serif\", 50).into_font())\n",
    "        .margin(5)\n",
    "        .x_label_area_size(30)\n",
    "        .y_label_area_size(30)\n",
    "        .build_cartesian_2d(-1f32..1f32, -0.1f32..1f32)?;\n",
    "\n",
    "    chart.configure_mesh().draw()?;\n",
    "\n",
    "    chart\n",
    "        .draw_series(LineSeries::new(\n",
    "            (-50..=50).map(|x| x as f32 / 50.0).map(|x| (x, x * x)),\n",
    "            &RED,\n",
    "        ))?\n",
    "        .label(\"y = x^2\")\n",
    "        .legend(|(x, y)| PathElement::new(vec![(x, y), (x + 20, y)], &RED));\n",
    "\n",
    "    chart\n",
    "        .configure_series_labels()\n",
    "        .background_style(&WHITE.mix(0.8))\n",
    "        .border_style(&BLACK)\n",
    "        .draw()?;\n",
    "\n",
    "    Ok(())\n",
    "}"
   ]
  },
  {
   "cell_type": "code",
   "execution_count": null,
   "id": "7da9d8af",
   "metadata": {},
   "outputs": [],
   "source": []
  }
 ],
 "metadata": {
  "kernelspec": {
   "display_name": "Rust",
   "language": "rust",
   "name": "rust"
  },
  "language_info": {
   "codemirror_mode": "rust",
   "file_extension": ".rs",
   "mimetype": "text/rust",
   "name": "Rust",
   "pygment_lexer": "rust",
   "version": ""
  }
 },
 "nbformat": 4,
 "nbformat_minor": 5
}
