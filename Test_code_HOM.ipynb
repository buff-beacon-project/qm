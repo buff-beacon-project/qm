{
 "cells": [
  {
   "cell_type": "code",
   "execution_count": 1,
   "id": "61cc2272-8710-4b9a-9764-361279fc1718",
   "metadata": {},
   "outputs": [],
   "source": [
    "import numpy as np\n",
    "from math import pi\n",
    "import matplotlib.pyplot as plt\n",
    "import warnings\n",
    "warnings.filterwarnings('ignore')"
   ]
  },
  {
   "cell_type": "code",
   "execution_count": 2,
   "id": "cf1fda12-f3a3-4b79-83dd-c80f0e2ae497",
   "metadata": {},
   "outputs": [],
   "source": [
    "signal = np.array([1.4446824684143E-06,1.49734123420715E-06,1.54999999999999E-06,1.60265876579284E-06,1.65531753158569E-06])\n",
    "idler = np.array([1.45728222027807E-06,1.51093173528974E-06,1.56458125030141E-06,1.61823076531308E-06,1.67188028032476E-06])\n",
    "jsa =  [[ 0.000000000000000000e+00+0.000000000000000000e+00j , 0.000000000000000000e+00+0.000000000000000000e+00j , 0.000000000000000000e+00+0.000000000000000000e+00j , -4.319853608960000000e+11+4.944164945920000000e+11j , 4.027076763975680000e+14-1.382071738040320000e+14j ],\n",
    "[ 0.000000000000000000e+00+0.000000000000000000e+00j , 0.000000000000000000e+00+0.000000000000000000e+00j ,  3.088739532800000000e+10+1.953169244160000000e+11j , 5.044385402060800000e+14+6.935267571138560000e+14j , 3.599628480000000000e+08+8.799449088000000000e+09j ], \n",
    "[ 0.000000000000000000e+00+0.000000000000000000e+00j , -3.324027863040000000e+12+5.993386737664000000e+12j , -1.230285999964160000e+14+2.582835760201728000e+15j , -6.623384960000000000e+08-1.764741888000000000e+09j , 0.000000000000000000e+00+0.000000000000000000e+00j ], \n",
    "[ 1.499729264640000000e+11+4.510301224960000000e+11j , -4.557713178624000000e+13-6.026835682918400000e+14j , 1.010083635200000000e+10+1.994112204800000000e+10j , 0.000000000000000000e+00+0.000000000000000000e+00j , 0.000000000000000000e+00+0.000000000000000000e+00j ], \n",
    "[ -1.112635353333760000e+14-1.675669075394560000e+14j , -1.393738854400000000e+10-4.946968166400000000e+10j , 0.000000000000000000e+00+0.000000000000000000e+00j , 0.000000000000000000e+00+0.000000000000000000e+00j , 0.000000000000000000e+00+0.000000000000000000e+00j ]]"
   ]
  },
  {
   "cell_type": "code",
   "execution_count": 3,
   "id": "c7cbe136-1fca-4272-98b2-abb8175aadd9",
   "metadata": {},
   "outputs": [],
   "source": [
    "def two_source_HOM(signal, idler, dt, JSA):\n",
    "    rate_ss = 0\n",
    "    rate_ii = 0\n",
    "    rate_si = 0\n",
    "    \n",
    "    im = 1j\n",
    "    \n",
    "    const = 2*pi*c*dt\n",
    "    for j in range(len(signal)): # signal 1\n",
    "        s_j_inv = 1/signal[j]\n",
    "        \n",
    "        for k in range(len(idler)): # idler 1\n",
    "            A = JSA[j][k]\n",
    "            \n",
    "            s_k_inv = 1/signal[k]\n",
    "            for l in range(len(signal)): # signal 2\n",
    "                C = JSA[l][k]\n",
    "                \n",
    "                i_l_inv = 1/idler[l]\n",
    "                ARG_ss = const*(s_j_inv - i_l_inv)\n",
    "                phase_ss = np.exp(im*ARG_ss)\n",
    "                for m in range(len(idler)): # idler 2\n",
    "                    i_m_inv = 1/idler[m]\n",
    "                    \n",
    "                    ARG_ii = const*(s_k_inv - i_m_inv)\n",
    "                    phase_ii = np.exp(im*ARG_ii)\n",
    "                    \n",
    "                    ARG_si = const*(s_j_inv - i_m_inv)\n",
    "                    phase_si = np.exp(im*ARG_si)\n",
    "                    \n",
    "                    B = JSA[l][m]\n",
    "                    D = JSA[j][m]\n",
    "                    \n",
    "                    arg1 = A*B\n",
    "                    arg2 = C*D\n",
    "                    \n",
    "                    intf_ss = (arg1 - phase_ss*arg2)*0.5\n",
    "                    intf_ii = (arg1 - phase_ii*arg2)*0.5\n",
    "                    intf_si = (arg1 - phase_si*arg2)*0.5\n",
    "                    \n",
    "                    rate_ss += np.absolute(intf_ss)**2\n",
    "                    rate_ii += np.absolute(intf_ii)**2\n",
    "                    rate_si += np.absolute(intf_si)**2\n",
    "    return {'ss': rate_ss, 'ii': rate_ii, 'si': rate_si}"
   ]
  },
  {
   "cell_type": "code",
   "execution_count": 4,
   "id": "2a698c23-f7c8-48bc-a2f0-114b9bbea691",
   "metadata": {},
   "outputs": [
    {
     "name": "stdout",
     "output_type": "stream",
     "text": [
      "{'ss': 2.5257522287895554e+61, 'ii': 2.5486631298438885e+61, 'si': 2.543235056913505e+61}\n"
     ]
    }
   ],
   "source": [
    "lambda_s = lambda_i = 1550e-9\n",
    "lambda_p = 775e-9\n",
    "theta = np.radians(51.765)\n",
    "dt = 1e-15\n",
    "c = 3e8\n",
    "\n",
    "def two_source_HOM_norm(signal, idler, JSA):\n",
    "    dt = 1e6\n",
    "    norm = two_source_HOM(signal, idler, dt, JSA)\n",
    "    return norm\n",
    "\n",
    "print(two_source_HOM_norm(signal,idler,jsa))"
   ]
  },
  {
   "cell_type": "code",
   "execution_count": null,
   "id": "c7f6ccb6-0076-4115-aaf7-d61a1888c587",
   "metadata": {},
   "outputs": [],
   "source": []
  }
 ],
 "metadata": {
  "kernelspec": {
   "display_name": "Python 3",
   "language": "python",
   "name": "python3"
  },
  "language_info": {
   "codemirror_mode": {
    "name": "ipython",
    "version": 3
   },
   "file_extension": ".py",
   "mimetype": "text/x-python",
   "name": "python",
   "nbconvert_exporter": "python",
   "pygments_lexer": "ipython3",
   "version": "3.8.8"
  }
 },
 "nbformat": 4,
 "nbformat_minor": 5
}
