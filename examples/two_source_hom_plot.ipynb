{
 "cells": [
  {
   "cell_type": "markdown",
   "id": "d8d31a0d-eb04-401b-84c8-87928cb4ec7e",
   "metadata": {},
   "source": [
    "**Rust Quantum Library**"
   ]
  },
  {
   "cell_type": "markdown",
   "id": "521bae9a-8a17-41a5-93b3-e768a457ef4d",
   "metadata": {},
   "source": [
    "Below are dependencies, creates, and global variables."
   ]
  },
  {
   "cell_type": "code",
   "execution_count": 17,
   "id": "125a9e26-285c-4330-820a-42e5a6732968",
   "metadata": {},
   "outputs": [],
   "source": [
    ":dep ndarray = { version = \"0.14\", features = [\"serde\"] }\n",
    ":dep ndarray-linalg = { version = \"0.13.1\", features = [\"intel-mkl-static\"]}\n",
    ":dep plotters = { git = \"https://github.com/38/plotters\", default_features = false, features = [\"evcxr\", \"all_series\"] }\n",
    ":dep thiserror = \"1.0\"\n",
    ":dep serde = { version = \"1.0\", features = [\"derive\"] }\n",
    ":dep serde_json = \"1.0\"\n",
    ":dep dimensioned = \"0.7\"\n",
    ":dep num-complex = \"0.4\"\n",
    ":dep qm = { version = \"0.1\", git =\"https://github.com/buff-beacon-project/qm\" }\n",
    "\n",
    "extern crate plotters;\n",
    "extern crate ndarray;\n",
    "\n",
    "pub use ndarray_linalg::c64;\n",
    "use std::f64::consts::PI;\n",
    "use plotters::prelude::*;\n",
    "use ndarray::prelude::*;\n",
    "use ndarray_linalg::*;\n",
    "use qm::*;\n",
    "\n",
    "pub type VecC64 = ndarray::Array1<c64>;\n",
    "pub type MatrixC64 = ndarray::Array2<c64>;"
   ]
  },
  {
   "cell_type": "code",
   "execution_count": null,
   "id": "fd5e5641-1523-4deb-a5cf-aa72bbc9510d",
   "metadata": {},
   "outputs": [],
   "source": []
  }
 ],
 "metadata": {
  "kernelspec": {
   "display_name": "Rust",
   "language": "rust",
   "name": "rust"
  },
  "language_info": {
   "codemirror_mode": "rust",
   "file_extension": ".rs",
   "mimetype": "text/rust",
   "name": "Rust",
   "pygment_lexer": "rust",
   "version": ""
  }
 },
 "nbformat": 4,
 "nbformat_minor": 5
}
